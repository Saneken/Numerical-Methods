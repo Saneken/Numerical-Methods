{
 "cells": [
  {
   "cell_type": "markdown",
   "metadata": {},
   "source": [
    "Синицын А., БПМ161, 21 вариант"
   ]
  },
  {
   "cell_type": "markdown",
   "metadata": {},
   "source": [
    "3.1.21\n"
   ]
  },
  {
   "cell_type": "code",
   "execution_count": 2,
   "metadata": {},
   "outputs": [],
   "source": [
    "import numpy as np\n",
    "import sympy as sp\n",
    "import matplotlib.pyplot as plt\n",
    "%matplotlib inline"
   ]
  },
  {
   "cell_type": "markdown",
   "metadata": {},
   "source": [
    "Задание значений матрицы А и вектора b"
   ]
  },
  {
   "cell_type": "code",
   "execution_count": 11,
   "metadata": {},
   "outputs": [
    {
     "name": "stdout",
     "output_type": "stream",
     "text": [
      "[[4.44622293e+01 7.87351978e+00 2.70916810e+00 1.24318733e+00\n",
      "  6.71873688e-01 4.03770245e-01]\n",
      " [7.87351978e+00 1.24318733e+00 4.03770245e-01 1.78943631e-01\n",
      "  9.44822373e-02 5.58405658e-02]\n",
      " [2.70916810e+00 4.03770245e-01 1.27829849e-01 5.58405658e-02\n",
      "  2.92118995e-02 1.71536379e-02]\n",
      " [1.24318733e+00 1.78943631e-01 5.58405658e-02 2.42013928e-02\n",
      "  1.25976316e-02 7.37220953e-03]\n",
      " [6.71873688e-01 9.44822373e-02 2.92118995e-02 1.25976316e-02\n",
      "  6.53714939e-03 3.81746413e-03]\n",
      " [4.03770245e-01 5.58405658e-02 1.71536379e-02 7.37220953e-03\n",
      "  3.81746413e-03 2.22604461e-03]]\n",
      "[21. 21. 21. 21. 21. 21.]\n"
     ]
    }
   ],
   "source": [
    "N = 21\n",
    "n = 6\n",
    "\n",
    "b = np.array([N]*n)*1.0\n",
    "c = np.array([[0.1*N*i*j for j in range(1, n + 1)] for i in range(1, n + 1)])\n",
    "#print(c[0,0])\n",
    "#A = np.array([[1000/(3*c[i,j]**2 + c[i,j]**3) for j in range(0, n)] for i in range(0, n)])\n",
    "A = 1000/(3*c**2 + c**3)\n",
    "\n",
    "print(A)\n",
    "print(b)"
   ]
  },
  {
   "cell_type": "markdown",
   "metadata": {},
   "source": [
    "Решение системы уравнений"
   ]
  },
  {
   "cell_type": "code",
   "execution_count": 13,
   "metadata": {},
   "outputs": [
    {
     "name": "stdout",
     "output_type": "stream",
     "text": [
      "[ 5.83328394e+05 -1.28347866e+08  2.87812060e+09 -1.71784680e+10\n",
      "  3.55160291e+10 -2.30797857e+10]\n"
     ]
    }
   ],
   "source": [
    "x = np.linalg.solve(A, b)\n",
    "print(x)"
   ]
  },
  {
   "cell_type": "markdown",
   "metadata": {},
   "source": [
    "Число обусловленности"
   ]
  },
  {
   "cell_type": "code",
   "execution_count": 14,
   "metadata": {},
   "outputs": [
    {
     "data": {
      "text/plain": [
       "3749057143257.382"
      ]
     },
     "execution_count": 14,
     "metadata": {},
     "output_type": "execute_result"
    }
   ],
   "source": [
    "cond = np.linalg.cond(A, p = np.inf)\n",
    "cond"
   ]
  },
  {
   "cell_type": "markdown",
   "metadata": {},
   "source": [
    "Вектор b с погрешностями"
   ]
  },
  {
   "cell_type": "code",
   "execution_count": 16,
   "metadata": {},
   "outputs": [
    {
     "name": "stdout",
     "output_type": "stream",
     "text": [
      "[[21.001 21.    21.    21.    21.    21.   ]\n",
      " [21.    21.001 21.    21.    21.    21.   ]\n",
      " [21.    21.    21.001 21.    21.    21.   ]\n",
      " [21.    21.    21.    21.001 21.    21.   ]\n",
      " [21.    21.    21.    21.    21.001 21.   ]\n",
      " [21.    21.    21.    21.    21.    21.001]]\n"
     ]
    }
   ],
   "source": [
    "e = 1e-3\n",
    "bi = np.array([b for i in range(n)])\n",
    "\n",
    "for i in range(n):\n",
    "    bi[i][i] += e\n",
    "\n",
    "print(bi)"
   ]
  },
  {
   "cell_type": "markdown",
   "metadata": {},
   "source": [
    "Решение системы с погрешностями"
   ]
  },
  {
   "cell_type": "code",
   "execution_count": 18,
   "metadata": {},
   "outputs": [
    {
     "name": "stdout",
     "output_type": "stream",
     "text": [
      "[[ 5.83328390e+05 -1.28347865e+08  2.87812057e+09 -1.71784678e+10\n",
      "   3.55160287e+10 -2.30797855e+10]\n",
      " [ 5.83329600e+05 -1.28348185e+08  2.87812831e+09 -1.71785159e+10\n",
      "   3.55161307e+10 -2.30798530e+10]\n",
      " [ 5.83297515e+05 -1.28340161e+08  2.87793906e+09 -1.71773554e+10\n",
      "   3.55136908e+10 -2.30782491e+10]\n",
      " [ 5.83527182e+05 -1.28395773e+08  2.87923315e+09 -1.71852326e+10\n",
      "   3.55301759e+10 -2.30890508e+10]\n",
      " [ 5.82896764e+05 -1.28246240e+08  2.87578230e+09 -1.71643212e+10\n",
      "   3.54865355e+10 -2.30605106e+10]\n",
      " [ 5.83618690e+05 -1.28415084e+08  2.87965727e+09 -1.71877331e+10\n",
      "   3.55353042e+10 -2.30923645e+10]]\n"
     ]
    }
   ],
   "source": [
    "xi = np.array([np.linalg.solve(A, bj) for bj in bi])\n",
    "print(xi)"
   ]
  },
  {
   "cell_type": "markdown",
   "metadata": {},
   "source": [
    "Вектор относительных погрешностей"
   ]
  },
  {
   "cell_type": "code",
   "execution_count": 19,
   "metadata": {},
   "outputs": [
    {
     "data": {
      "text/plain": [
       "array([1.21531139e-08, 2.86140107e-06, 6.58378951e-05, 3.98321703e-04,\n",
       "       8.30430062e-04, 5.42716054e-04])"
      ]
     },
     "execution_count": 19,
     "metadata": {},
     "output_type": "execute_result"
    }
   ],
   "source": [
    "d = np.array([np.linalg.norm(x - xj, ord = np.inf)/np.linalg.norm(x, ord = np.inf) for xj in xi])\n",
    "d"
   ]
  },
  {
   "cell_type": "markdown",
   "metadata": {},
   "source": [
    "Индекс компоненты, оказывающей наибольшее влияние на погрешность решения"
   ]
  },
  {
   "cell_type": "code",
   "execution_count": 21,
   "metadata": {},
   "outputs": [
    {
     "data": {
      "text/plain": [
       "4"
      ]
     },
     "execution_count": 21,
     "metadata": {},
     "output_type": "execute_result"
    }
   ],
   "source": [
    "i = np.argmax(d)\n",
    "i"
   ]
  },
  {
   "cell_type": "markdown",
   "metadata": {},
   "source": [
    "Теоретическая погрешность решения"
   ]
  },
  {
   "cell_type": "code",
   "execution_count": 22,
   "metadata": {
    "scrolled": true
   },
   "outputs": [
    {
     "data": {
      "text/plain": [
       "178526530.6315221"
      ]
     },
     "execution_count": 22,
     "metadata": {},
     "output_type": "execute_result"
    }
   ],
   "source": [
    "dt = cond*np.linalg.norm(b - bi, ord = np.inf)/np.linalg.norm(b, ord = np.inf)\n",
    "dt"
   ]
  },
  {
   "cell_type": "markdown",
   "metadata": {},
   "source": [
    "Практическая погрешность решения"
   ]
  },
  {
   "cell_type": "code",
   "execution_count": 23,
   "metadata": {},
   "outputs": [
    {
     "data": {
      "text/plain": [
       "0.000830430062475337"
      ]
     },
     "execution_count": 23,
     "metadata": {},
     "output_type": "execute_result"
    }
   ],
   "source": [
    "d[i]"
   ]
  },
  {
   "cell_type": "markdown",
   "metadata": {},
   "source": [
    "Теоритическая погрешность решения много больше практической, как и должно быть"
   ]
  },
  {
   "cell_type": "markdown",
   "metadata": {},
   "source": [
    "3.5.6"
   ]
  },
  {
   "cell_type": "markdown",
   "metadata": {},
   "source": [
    "Задание системы"
   ]
  },
  {
   "cell_type": "code",
   "execution_count": 24,
   "metadata": {},
   "outputs": [
    {
     "name": "stdout",
     "output_type": "stream",
     "text": [
      "[-24 -21 -16  -9   0  11  24  39  56  75  96 119 144 171 200 231 264 299\n",
      " 336 375 416 459 504 551 600]\n"
     ]
    }
   ],
   "source": [
    "n = 25\n",
    "m = 10\n",
    "\n",
    "f = lambda i, j: (i + j)/(m + n) if i != j else n + m**2 + j/m + i/n\n",
    "\n",
    "A = np.array([[f(i, j) for i in range(1, n + 1)] for j in range(1, n + 1)])\n",
    "b = np.array([(i*i - n) for i in range(1, n + 1)])\n",
    "\n",
    "print(b)"
   ]
  },
  {
   "cell_type": "markdown",
   "metadata": {},
   "source": [
    "Метод Холецкого"
   ]
  },
  {
   "cell_type": "code",
   "execution_count": 29,
   "metadata": {},
   "outputs": [],
   "source": [
    "L = np.linalg.cholesky(A)\n",
    "L_T = L.transpose()"
   ]
  },
  {
   "cell_type": "markdown",
   "metadata": {},
   "source": [
    "Решение"
   ]
  },
  {
   "cell_type": "code",
   "execution_count": 30,
   "metadata": {},
   "outputs": [
    {
     "name": "stdout",
     "output_type": "stream",
     "text": [
      "[-0.35440646 -0.3376128  -0.30487312 -0.25621903 -0.19168209 -0.11129375\n",
      " -0.01508538  0.09691172  0.22466633  0.36814734  0.52732368  0.70216441\n",
      "  0.89263863  1.09871555  1.32036444  1.55755465  1.81025564  2.07843691\n",
      "  2.36206807  2.6611188   2.97555886  3.30535807  3.65048637  4.01091373\n",
      "  4.38661024]\n"
     ]
    }
   ],
   "source": [
    "y = np.linalg.solve(L, b)\n",
    "x = np.linalg.solve(L_T, y)\n",
    "print(x)"
   ]
  },
  {
   "cell_type": "markdown",
   "metadata": {},
   "source": [
    "3.6.5"
   ]
  },
  {
   "cell_type": "code",
   "execution_count": 31,
   "metadata": {},
   "outputs": [],
   "source": [
    "M = 5\n",
    "n = 45\n",
    "m = 4\n",
    "t = np.array([0.0001, 1, 10000])\n",
    "\n",
    "def q(M):\n",
    "    return 0.993 + (-1)**M*M*(0.0001)\n",
    "\n",
    "f = lambda i, j, t: q(M) if i != j else q(M) + t\n",
    "\n",
    "def A(t):\n",
    "    return np.array([[f(i, j, t) for i in range(1, n + 1)] for j in range(1, n + 1)])\n",
    "\n",
    "b = np.array([q(M)**(n+1-j) for j in range(1, n + 1)])\n"
   ]
  },
  {
   "cell_type": "markdown",
   "metadata": {},
   "source": [
    "Метод Гаусса"
   ]
  },
  {
   "cell_type": "code",
   "execution_count": null,
   "metadata": {},
   "outputs": [],
   "source": []
  },
  {
   "cell_type": "code",
   "execution_count": null,
   "metadata": {},
   "outputs": [],
   "source": []
  }
 ],
 "metadata": {
  "kernelspec": {
   "display_name": "Python 3",
   "language": "python",
   "name": "python3"
  },
  "language_info": {
   "codemirror_mode": {
    "name": "ipython",
    "version": 3
   },
   "file_extension": ".py",
   "mimetype": "text/x-python",
   "name": "python",
   "nbconvert_exporter": "python",
   "pygments_lexer": "ipython3",
   "version": "3.7.1"
  }
 },
 "nbformat": 4,
 "nbformat_minor": 2
}
