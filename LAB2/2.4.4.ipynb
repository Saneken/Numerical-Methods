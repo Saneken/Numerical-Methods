{
 "cells": [
  {
   "cell_type": "code",
   "execution_count": 1,
   "metadata": {},
   "outputs": [],
   "source": [
    "import numpy as np\n",
    "import matplotlib.pyplot as plt"
   ]
  },
  {
   "cell_type": "code",
   "execution_count": 2,
   "metadata": {},
   "outputs": [
    {
     "data": {
      "image/png": "[encoded data removed]",
      "text/plain": [
       "<Figure size 432x288 with 1 Axes>"
      ]
     },
     "metadata": {
      "needs_background": "light"
     },
     "output_type": "display_data"
    }
   ],
   "source": [
    "a4 = 7.809249\n",
    "a3 = 16.28542\n",
    "a2 = -2.771356\n",
    "a1 = -27.95304\n",
    "a0 = -11.33921\n",
    "\n",
    "def f(x):\n",
    "    return x**5 + a4*x**4 + a3*x**3 + a2*x**2 + a1*x + a0\n",
    "\n",
    "def df(x):\n",
    "    return 5*x**4 + 4*a4*x**3 + 3*a3*x**2 + 2*a2*x + a1\n",
    "\n",
    "def fi(x, a):\n",
    "    return x - a*f(x)\n",
    "\n",
    "def fpi(x0, fi, e, q, a):\n",
    "    k = 0\n",
    "    x1 = fi(x0, a)\n",
    "    while (abs(x1 - x0) > q*e/(1-q)):\n",
    "        k = k + 1\n",
    "        x0 = x1\n",
    "        x1 = fi(x0, a)\n",
    "        #print(x1)\n",
    "    return x1, k\n",
    "\n",
    "x = np.arange(-4,1.5,0.1)\n",
    "y = f(x)\n",
    "plt.plot(x,y)\n",
    "plt.plot(x,x*0,'k')\n",
    "plt.grid(True)\n",
    "plt.show()"
   ]
  },
  {
   "cell_type": "code",
   "execution_count": 3,
   "metadata": {},
   "outputs": [
    {
     "name": "stdout",
     "output_type": "stream",
     "text": [
      "x = -3.65636034, iterations = 93\n",
      "x = -1.62569190, iterations = 135\n",
      "x = -1.62569051, iterations = 104\n",
      "x = 1.21992580, iterations = 21\n",
      "x = 1.21992580, iterations = 6\n"
     ]
    }
   ],
   "source": [
    "print('x = %.8f, iterations = %d' %fpi(-4, fi, 1e-8, 0.9, 0.01))\n",
    "print('x = %.8f, iterations = %d' %fpi(-3, fi, 1e-8, 0.9, 0.01))\n",
    "print('x = %.8f, iterations = %d' %fpi(-1.5, fi, 1e-8, 0.9, 0.01))\n",
    "print('x = %.8f, iterations = %d' %fpi(-0.4, fi, 1e-8, 0.9, 0.01))\n",
    "print('x = %.8f, iterations = %d' %fpi(1, fi, 1e-8, 0.9, 0.01))"
   ]
  },
  {
   "cell_type": "code",
   "execution_count": 5,
   "metadata": {},
   "outputs": [
    {
     "name": "stdout",
     "output_type": "stream",
     "text": [
      "x = -3.65635972, iterations = 7\n",
      "x = -3.26873289, iterations = 5\n",
      "x = -1.62569121, iterations = 4\n",
      "x = -0.47839097, iterations = 4\n",
      "x = 1.21992580, iterations = 6\n"
     ]
    }
   ],
   "source": [
    "def Newton(x0, f, df, eps):\n",
    "    k = 0\n",
    "    while True:\n",
    "        x1 = x0 - f(x0)/df(x0)\n",
    "        k += 1\n",
    "        if abs(x1-x0) < eps:\n",
    "            return x1, k\n",
    "        x0 = x1\n",
    "        \n",
    "print('x = %.8f, iterations = %d'%Newton(-4, f, df, 10**(-8)))\n",
    "print('x = %.8f, iterations = %d'%Newton(-3, f, df, 10**(-8)))\n",
    "print('x = %.8f, iterations = %d'%Newton(-1.5, f, df, 10**(-8)))\n",
    "print('x = %.8f, iterations = %d'%Newton(-0.4, f, df, 10**(-8)))\n",
    "print('x = %.8f, iterations = %d'%Newton(1, f, df, 10**(-8)))"
   ]
  },
  {
   "cell_type": "code",
   "execution_count": null,
   "metadata": {},
   "outputs": [],
   "source": []
  }
 ],
 "metadata": {
  "kernelspec": {
   "display_name": "Python 3",
   "language": "python",
   "name": "python3"
  },
  "language_info": {
   "codemirror_mode": {
    "name": "ipython",
    "version": 3
   },
   "file_extension": ".py",
   "mimetype": "text/x-python",
   "name": "python",
   "nbconvert_exporter": "python",
   "pygments_lexer": "ipython3",
   "version": "3.7.1"
  }
 },
 "nbformat": 4,
 "nbformat_minor": 2
}
