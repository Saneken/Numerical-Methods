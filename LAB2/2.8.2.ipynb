{
 "cells": [
  {
   "cell_type": "code",
   "execution_count": 5,
   "metadata": {},
   "outputs": [],
   "source": [
    "import numpy as np\n",
    "import matplotlib.pyplot as plt"
   ]
  },
  {
   "cell_type": "code",
   "execution_count": 4,
   "metadata": {},
   "outputs": [
    {
     "data": {
      "image/png": "[encoded data removed]",
      "text/plain": [
       "<Figure size 432x288 with 1 Axes>"
      ]
     },
     "metadata": {
      "needs_background": "light"
     },
     "output_type": "display_data"
    },
    {
     "name": "stdout",
     "output_type": "stream",
     "text": [
      "x = 1.28451280, iterations = 3\n",
      "x = 2.51036943, iterations = 3\n",
      "x =  (-0.5474411169798171-0.7941383329789448j)  iterations =  7\n",
      "x =  (-0.5474411169798171+0.7941383329789448j)  iterations =  7\n"
     ]
    }
   ],
   "source": [
    "def f(x):\n",
    "    return x**4 - 2.7*x**3 + 3\n",
    "\n",
    "def df(x):\n",
    "    return 4*x**3 - 8.1*x**2\n",
    "\n",
    "def Newton(x0, f, df, eps):\n",
    "    k = 0\n",
    "    while True:\n",
    "        x1 = x0 - f(x0)/df(x0)\n",
    "        k += 1\n",
    "        if abs(x1-x0) < eps:\n",
    "            return x1, k\n",
    "        x0 = x1\n",
    "        \n",
    "x = np.arange(1,3,0.1)\n",
    "y = f(x)\n",
    "plt.plot(x,y)\n",
    "plt.plot(x,x*0,'k')\n",
    "plt.grid(True)\n",
    "plt.show()\n",
    "\n",
    "print('x = %.8f, iterations = %d'%Newton(1.5, f, df, 10**(-5)))\n",
    "print('x = %.8f, iterations = %d'%Newton(2.5, f, df, 10**(-5)))\n",
    "c_root1 = Newton(-1j, f, df, 10**(-5))\n",
    "print('x = ', c_root1[0],' iterations = ', c_root1[1])\n",
    "c_root2 = Newton(1j, f, df, 10**(-5))\n",
    "print('x = ', c_root2[0],' iterations = ', c_root2[1])"
   ]
  },
  {
   "cell_type": "code",
   "execution_count": null,
   "metadata": {},
   "outputs": [],
   "source": []
  }
 ],
 "metadata": {
  "kernelspec": {
   "display_name": "Python 3",
   "language": "python",
   "name": "python3"
  },
  "language_info": {
   "codemirror_mode": {
    "name": "ipython",
    "version": 3
   },
   "file_extension": ".py",
   "mimetype": "text/x-python",
   "name": "python",
   "nbconvert_exporter": "python",
   "pygments_lexer": "ipython3",
   "version": "3.7.1"
  }
 },
 "nbformat": 4,
 "nbformat_minor": 2
}
