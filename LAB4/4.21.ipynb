{
 "cells": [
  {
   "cell_type": "code",
   "execution_count": 26,
   "metadata": {},
   "outputs": [],
   "source": [
    "import numpy as np\n",
    "import math\n",
    "import matplotlib.pyplot as plt"
   ]
  },
  {
   "cell_type": "markdown",
   "metadata": {},
   "source": [
    "4.1.21"
   ]
  },
  {
   "cell_type": "markdown",
   "metadata": {},
   "source": [
    "Решение системы методом Гаусса"
   ]
  },
  {
   "cell_type": "code",
   "execution_count": 4,
   "metadata": {},
   "outputs": [
    {
     "name": "stdout",
     "output_type": "stream",
     "text": [
      "[ 4.17031201 -1.4316858   2.3754508  -4.21282679]\n"
     ]
    }
   ],
   "source": [
    "A = np.array([[7.92, 3.36, -2.24, 1.98], [-13.86, 18.20, 0, 3.96], [-2.97, 0.20, 4.80, 0], [5.94, 0, -10.60, 16.83]])\n",
    "b = np.array([14.556, -100.54, -1.27, -71.31])\n",
    "x=np.linalg.solve(A,b)\n",
    "print(x)"
   ]
  },
  {
   "cell_type": "markdown",
   "metadata": {},
   "source": [
    "Преобразование системы"
   ]
  },
  {
   "cell_type": "code",
   "execution_count": 6,
   "metadata": {},
   "outputs": [],
   "source": [
    "n = A.shape\n",
    "D = np.zeros(n)\n",
    "Di = np.zeros(n)\n",
    "for i in range(A.shape[0]):\n",
    "    D[i][i] = A[i][i]\n",
    "    Di[i][i] = 1/A[i][i]\n",
    "B = np.dot(Di, D - A)\n",
    "c = np.dot(Di, b)"
   ]
  },
  {
   "cell_type": "markdown",
   "metadata": {},
   "source": [
    "Проверка условия"
   ]
  },
  {
   "cell_type": "code",
   "execution_count": 9,
   "metadata": {},
   "outputs": [
    {
     "data": {
      "text/plain": [
       "0.9827688651218064"
      ]
     },
     "execution_count": 9,
     "metadata": {},
     "output_type": "execute_result"
    }
   ],
   "source": [
    "np.linalg.norm(B, ord = np.inf)"
   ]
  },
  {
   "cell_type": "markdown",
   "metadata": {},
   "source": [
    "Метод Зейделя"
   ]
  },
  {
   "cell_type": "code",
   "execution_count": 10,
   "metadata": {},
   "outputs": [],
   "source": [
    "def Seidel(B, c, x0, mi=10, e=1e-3):\n",
    "    x1 = x0\n",
    "    for i in range(mi):\n",
    "        x2 = x1\n",
    "        x1 = np.dot(B, x2) + c\n",
    "        if np.linalg.norm(x2 - x1, ord=np.inf) < e:\n",
    "            return x1, i + 1\n",
    "        \n",
    "    return x1, i + 1"
   ]
  },
  {
   "cell_type": "markdown",
   "metadata": {},
   "source": [
    "Решение методом Зейделя и погрешность"
   ]
  },
  {
   "cell_type": "code",
   "execution_count": 14,
   "metadata": {},
   "outputs": [
    {
     "name": "stdout",
     "output_type": "stream",
     "text": [
      "[ 4.16223811 -1.43598977  2.37013377 -4.19572888]\n",
      "0.017097907176058413\n"
     ]
    }
   ],
   "source": [
    "x0 = np.array([0, 0, 0, 0])\n",
    "xs = Seidel(B, c, x0, 10)[0]\n",
    "print(xs)\n",
    "print(np.linalg.norm(x - xs, ord=np.inf))"
   ]
  },
  {
   "cell_type": "markdown",
   "metadata": {},
   "source": [
    "Решение методом Зейделя с другим начальным приближением"
   ]
  },
  {
   "cell_type": "code",
   "execution_count": 15,
   "metadata": {},
   "outputs": [
    {
     "name": "stdout",
     "output_type": "stream",
     "text": [
      "[ 4.16061939 -1.43663097  2.3683828  -4.18935659]\n",
      "0.023470195627712798\n"
     ]
    }
   ],
   "source": [
    "x0 = np.array([-1, 1, -1, 1])\n",
    "xs = Seidel(B, c, x0, 10)[0]\n",
    "print(xs)\n",
    "print(np.linalg.norm(x - xs, ord=np.inf))"
   ]
  },
  {
   "cell_type": "markdown",
   "metadata": {},
   "source": [
    "Начальное приближение взято чуть дальше от ответа, поэтому погрешность увеличилась"
   ]
  },
  {
   "cell_type": "markdown",
   "metadata": {},
   "source": [
    "4.2"
   ]
  },
  {
   "cell_type": "code",
   "execution_count": 18,
   "metadata": {},
   "outputs": [
    {
     "name": "stdout",
     "output_type": "stream",
     "text": [
      "[ 4.17031225 -1.43168548  2.37545091 -4.21282674]\n",
      "28\n",
      "3.1629078445227776e-07\n"
     ]
    }
   ],
   "source": [
    "x0 = np.array([-1, 1, -1, 1])\n",
    "xs = Seidel(B, c, x0, 100, 1e-6)\n",
    "print(xs[0])\n",
    "print(xs[1])\n",
    "print(np.linalg.norm(x - xs[0], ord=np.inf))"
   ]
  },
  {
   "cell_type": "markdown",
   "metadata": {},
   "source": [
    "4.4.1"
   ]
  },
  {
   "cell_type": "code",
   "execution_count": 29,
   "metadata": {},
   "outputs": [
    {
     "data": {
      "text/plain": [
       "<matplotlib.collections.PathCollection at 0x17e8179d780>"
      ]
     },
     "execution_count": 29,
     "metadata": {},
     "output_type": "execute_result"
    },
    {
     "data": {
      "image/png": "[encoded data removed]",
      "text/plain": [
       "<Figure size 432x288 with 1 Axes>"
      ]
     },
     "metadata": {
      "needs_background": "light"
     },
     "output_type": "display_data"
    }
   ],
   "source": [
    "B = np.array([[0.2, 0.3, -0.1], [0.1, -0.25, 0], [0, 0.1, 0.3]])\n",
    "c = np.array([1, 2, 1])\n",
    "t = np.arange(-1, 1.2, 0.2)\n",
    "Norms = []\n",
    "for i in t:\n",
    "    B[1][2] = np.cos(0.5*i*math.pi)\n",
    "    B[2][0] = np.sin(10*i*math.pi)\n",
    "    Norms.append(np.linalg.norm(B, ord = np.inf))\n",
    "plt.scatter(t, Norms)"
   ]
  },
  {
   "cell_type": "markdown",
   "metadata": {},
   "source": [
    "4.7.6"
   ]
  },
  {
   "cell_type": "markdown",
   "metadata": {},
   "source": [
    "Задание начальных параметров"
   ]
  },
  {
   "cell_type": "code",
   "execution_count": 63,
   "metadata": {},
   "outputs": [],
   "source": [
    "n = 30\n",
    "m = 6\n",
    "q = 0.993 + (-1)**m*m*(1e-4)\n",
    "t = m + n\n",
    "tau = 0\n",
    "\n",
    "for i in range(1, n + 1):\n",
    "    tau += q**(2*i)\n",
    "    \n",
    "a = lambda i,j: tau + (q**i + q**j)*t if i != j else tau + 2*q**i*t + t**2\n",
    "\n",
    "A = np.zeros((n,n))\n",
    "for i in range(n):\n",
    "    for j in range(n):\n",
    "        A[i,j] = a(i + 1, j + 1)\n",
    "        \n",
    "b = np.array([t*q**i for i in range(1,n+1)])\n",
    "x = np.linalg.solve(A,b)"
   ]
  },
  {
   "cell_type": "markdown",
   "metadata": {},
   "source": [
    "Приведение к удобному для итераций виду"
   ]
  },
  {
   "cell_type": "code",
   "execution_count": 59,
   "metadata": {},
   "outputs": [],
   "source": [
    "B = np.zeros((n,n))\n",
    "c = np.zeros(n)\n",
    "\n",
    "for i in range(n):\n",
    "    c[i] = b[i] / A[i, i]\n",
    "    for j in range(n):\n",
    "        if i != j:\n",
    "            B[i][j] = -A[i, i] / A[i, i]"
   ]
  },
  {
   "cell_type": "markdown",
   "metadata": {},
   "source": [
    "Метод релаксации"
   ]
  },
  {
   "cell_type": "code",
   "execution_count": 60,
   "metadata": {},
   "outputs": [],
   "source": [
    "def rel(B, c, x0, w, mi, e):\n",
    "    x=x0\n",
    "    \n",
    "    for i in range(mi):\n",
    "        z = x\n",
    "        x = np.dot(B, z) + c\n",
    "        x = x*w + z*(1 - w)\n",
    "        \n",
    "        if (np.linalg.norm(x - z,np.inf) < e):\n",
    "            return x, i+1   \n",
    "    return x, i+1"
   ]
  },
  {
   "cell_type": "markdown",
   "metadata": {},
   "source": [
    "Оптимальный параметр релаксации w"
   ]
  },
  {
   "cell_type": "code",
   "execution_count": 66,
   "metadata": {},
   "outputs": [
    {
     "name": "stdout",
     "output_type": "stream",
     "text": [
      "0.1\n",
      "[1.61877771e+60 1.61877771e+60 1.61877771e+60 1.61877771e+60\n",
      " 1.61877771e+60 1.61877771e+60 1.61877771e+60 1.61877771e+60\n",
      " 1.61877771e+60 1.61877771e+60 1.61877771e+60 1.61877771e+60\n",
      " 1.61877771e+60 1.61877771e+60 1.61877771e+60 1.61877771e+60\n",
      " 1.61877771e+60 1.61877771e+60 1.61877771e+60 1.61877771e+60\n",
      " 1.61877771e+60 1.61877771e+60 1.61877771e+60 1.61877771e+60\n",
      " 1.61877771e+60 1.61877771e+60 1.61877771e+60 1.61877771e+60\n",
      " 1.61877771e+60 1.61877771e+60]\n"
     ]
    }
   ],
   "source": [
    "ws = np.linspace(0.1, 2, 100)\n",
    "\n",
    "ls=[]\n",
    "\n",
    "for w in ws:\n",
    "    x1, nm = rel(B, c, x + 1, w, 100, 1e-6)\n",
    "    ls.append(nm)\n",
    "\n",
    "index = ls.index(min(ls))\n",
    "w_opt = ws[index]\n",
    "print(w_opt)\n",
    "print(rel(B, c, x + 1, w_opt, 200, 1e-6)[0])"
   ]
  },
  {
   "cell_type": "code",
   "execution_count": null,
   "metadata": {},
   "outputs": [],
   "source": []
  }
 ],
 "metadata": {
  "kernelspec": {
   "display_name": "Python 3",
   "language": "python",
   "name": "python3"
  },
  "language_info": {
   "codemirror_mode": {
    "name": "ipython",
    "version": 3
   },
   "file_extension": ".py",
   "mimetype": "text/x-python",
   "name": "python",
   "nbconvert_exporter": "python",
   "pygments_lexer": "ipython3",
   "version": "3.7.1"
  }
 },
 "nbformat": 4,
 "nbformat_minor": 2
}
