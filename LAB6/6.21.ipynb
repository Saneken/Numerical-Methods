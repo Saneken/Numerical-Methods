{
 "cells": [
  {
   "cell_type": "code",
   "execution_count": 25,
   "metadata": {},
   "outputs": [],
   "source": [
    "import numpy as np\n",
    "import matplotlib.pyplot as plt"
   ]
  },
  {
   "cell_type": "markdown",
   "metadata": {},
   "source": [
    "6.1.21"
   ]
  },
  {
   "cell_type": "markdown",
   "metadata": {},
   "source": [
    "Аналитическое решение"
   ]
  },
  {
   "cell_type": "code",
   "execution_count": 18,
   "metadata": {},
   "outputs": [
    {
     "data": {
      "text/plain": [
       "-0.204910520320001"
      ]
     },
     "execution_count": 18,
     "metadata": {},
     "output_type": "execute_result"
    }
   ],
   "source": [
    "c = [2.2, -4.1, 0.3, -3.4, 3.5, 6.5]\n",
    "a = 1\n",
    "b = 1.44\n",
    "#Integral_value_true = 13.1412\n",
    "def P(x, c=c):\n",
    "    return c[0] + c[1] * x + c[2] * x**2 + c[3] * x ** 3 + c[4] * x**4\n",
    "\n",
    "def I(c,x):\n",
    "    return c[0] * x + c[1] / 2 * x**2 + c[2] / 3 * x**3 + c[3] / 4 * x ** 4 + c[4] / 5 * x**5\n",
    "i = I(c, b) - I(c, a)\n",
    "i"
   ]
  },
  {
   "cell_type": "markdown",
   "metadata": {},
   "source": [
    "Формулы трапеций и Симспона, вычисление погрешностей"
   ]
  },
  {
   "cell_type": "code",
   "execution_count": 11,
   "metadata": {},
   "outputs": [
    {
     "name": "stdout",
     "output_type": "stream",
     "text": [
      "0.27423114752000116 \n",
      " 0.00048100565333453194\n"
     ]
    }
   ],
   "source": [
    "n = 1\n",
    "x = np.linspace(a, b, n+1)\n",
    "h = x[1] - x[0]\n",
    "def T(x, h, n, P = P):\n",
    "    return h*((P(x[0]) + P(x[n]))/2  + np.sum(np.array([P(x[i]) for i in range(1, n)])))\n",
    "\n",
    "def S(x,h,n):\n",
    "    return h/6*(P(x[0]) + 4 * np.sum(np.array([P((x[i] + x[i+1])/2) for i in range(0, n)])) + \n",
    "                2 * np.sum(np.array([P(x[i]) for i in range(1,n)])) + P(x[n]))\n",
    "    \n",
    "it = T(x,h,n)\n",
    "iS = S(x,h,n)\n",
    "aet = np.abs(it - i)\n",
    "aes = np.abs(iS - i)\n",
    "print(aet, \"\\n\", aes)"
   ]
  },
  {
   "cell_type": "markdown",
   "metadata": {},
   "source": [
    "Формулы трапеций и Симпсона для составного отрезка интегрирования"
   ]
  },
  {
   "cell_type": "code",
   "execution_count": 22,
   "metadata": {},
   "outputs": [
    {
     "name": "stdout",
     "output_type": "stream",
     "text": [
      "0.00045518406649766585 \n",
      " 0.0004550945341234014\n"
     ]
    }
   ],
   "source": [
    "h0 = (2*0.0001) / (P(b)*(b-a))\n",
    "n = round((b-a) / h0)\n",
    "h0 = (b-a) / n\n",
    "x0 = np.arange(a, b + h0, h0)\n",
    "ith0 = T(x0, h0, x0.shape[0] - 1)\n",
    "aeth0 = np.abs(ith0 - i)\n",
    "ish0 = S(x0, h0, x0.shape[0] - 1)\n",
    "aesh0 = np.abs(ish0 - i) \n",
    "print(aeth0, \"\\n\", aesh0)"
   ]
  },
  {
   "cell_type": "markdown",
   "metadata": {},
   "source": [
    "6.4.7"
   ]
  },
  {
   "cell_type": "code",
   "execution_count": 30,
   "metadata": {},
   "outputs": [
    {
     "data": {
      "image/png": "[encoded data removed]",
      "text/plain": [
       "<Figure size 432x288 with 1 Axes>"
      ]
     },
     "metadata": {
      "needs_background": "light"
     },
     "output_type": "display_data"
    }
   ],
   "source": [
    "eps = 1e-8\n",
    "a = 0\n",
    "b = 2\n",
    "h_tr = np.sqrt(eps * 12 / 2 /(b - a))\n",
    "\n",
    "def f(t, x):\n",
    "    return np.sin(t**2 + x * t)\n",
    "\n",
    "def t1(func, a, b, x):\n",
    "    return (b - a ) / 2 * (func(a,x) + func(b,x))\n",
    "\n",
    "def t2(func, a, b, h, x):\n",
    "    n = np.linspace(a, b, np.ceil((b-a)/h).astype('int64'))\n",
    "    s = 0\n",
    "    for num, i in enumerate(n[:-1]):\n",
    "        s += t1(func, n[num], n[num + 1], x)\n",
    "    return s\n",
    "\n",
    "x = np.linspace(a, b, 100)\n",
    "y = t2(f, a, b, h_tr, x)\n",
    "plt.plot(x, y);\n",
    "plt.title('F(x)');"
   ]
  },
  {
   "cell_type": "markdown",
   "metadata": {},
   "source": [
    "6.8.7"
   ]
  },
  {
   "cell_type": "code",
   "execution_count": 32,
   "metadata": {},
   "outputs": [
    {
     "name": "stdout",
     "output_type": "stream",
     "text": [
      "0.9077075601286632\n"
     ]
    }
   ],
   "source": [
    "def t(func, a, b, h):\n",
    "    n = np.linspace(a, b, np.ceil((b-a)/h).astype('int64'))\n",
    "    v = t2(func, a, b, h, n)\n",
    "    return h * ( (v[0] + v[-1]) / 2 + v[1:-1].sum())\n",
    "\n",
    "sq = t(f, a, b, h_tr)\n",
    "print(sq)"
   ]
  },
  {
   "cell_type": "markdown",
   "metadata": {},
   "source": [
    "6.6.21"
   ]
  },
  {
   "cell_type": "markdown",
   "metadata": {},
   "source": [
    "Формула Гаусса"
   ]
  },
  {
   "cell_type": "code",
   "execution_count": 40,
   "metadata": {},
   "outputs": [],
   "source": [
    "def G(func, a, b, nodes):\n",
    "    if nodes == 1:\n",
    "        t = [0]\n",
    "        A = [2]\n",
    "    elif nodes == 2:\n",
    "        t = [-0.577350269189626, 0.577350269189626]\n",
    "        A = [1, 1]\n",
    "    elif nodes == 3:\n",
    "        t = [-0.77459666929954,0.00000000000000, 0.77459666929954]\n",
    "        A = [0.55555555555556, 0.88888888888888, 0.55555555555556]\n",
    "    elif nodes == 4:\n",
    "        t = [-0.861136311594052, -0.339981043584856,0.339981043584856, 0.861136311594052]\n",
    "        A = [0.347854845137454, 0.652145154862546, 0.652145154862546,0.347854845137454]\n",
    "    else:\n",
    "        return None\n",
    "    \n",
    "    s = 0\n",
    "    for i in range(len(t)):\n",
    "        s += A[i] * func((b + a) / 2 + (b - a) / 2 * t[i])\n",
    "    s *= (b-a) / 2\n",
    "    return s"
   ]
  },
  {
   "cell_type": "markdown",
   "metadata": {},
   "source": [
    "Вычисление погрешностей"
   ]
  },
  {
   "cell_type": "code",
   "execution_count": 53,
   "metadata": {},
   "outputs": [
    {
     "name": "stdout",
     "output_type": "stream",
     "text": [
      "-0.3413045855999998\n",
      "-0.2052311907555555\n",
      "-0.2049105202994448\n",
      "-0.20491052032000012\n",
      "[0.1363940652799997, 0.0003206704355553647, 2.0555335211724923e-11, 0.0]\n"
     ]
    }
   ],
   "source": [
    "eg = []\n",
    "sqe = G(P,1,1.44,4)\n",
    "for i in range(1, 5):\n",
    "    sqg = G(P, 1, 1.44, i)\n",
    "    print(sqg)\n",
    "    eg.append(np.abs(sqg - sqe))\n",
    "print(eg)"
   ]
  },
  {
   "cell_type": "markdown",
   "metadata": {},
   "source": [
    "6.9.21"
   ]
  }
 ],
 "metadata": {
  "kernelspec": {
   "display_name": "Python 3",
   "language": "python",
   "name": "python3"
  },
  "language_info": {
   "codemirror_mode": {
    "name": "ipython",
    "version": 3
   },
   "file_extension": ".py",
   "mimetype": "text/x-python",
   "name": "python",
   "nbconvert_exporter": "python",
   "pygments_lexer": "ipython3",
   "version": "3.7.1"
  }
 },
 "nbformat": 4,
 "nbformat_minor": 2
}
